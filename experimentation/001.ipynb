{
 "cells": [
  {
   "cell_type": "markdown",
   "id": "a08d6014-a8a6-41f1-bc22-4f23f16ee862",
   "metadata": {},
   "source": [
    "# DataPub - Junio 2024\n",
    "## Planteamiento del problema\n",
    "Ser científico de datos es una forma de vida. ¿Cuántos no han resuelto problemas de su día a día con alguna herramienta de ciencia de datos?. Si ustedes reciben \"utilidades\", una repartición proporcional de una parte de las ganancias anuales de la empresa, seguro han querido invertir.\n",
    "Este año quize hacer algo diferente, en lugar de poner dinero en el S&P500 preferí tomar un poco de riesgo \"medido\" y armar mi portafolio con otros stocks.\n",
    "\n",
    "## Un marco de trabajo - El Microsoft Team data Science Process\n",
    "The Team Data Science Process (TDSP) is an agile, iterative data science methodology that you can use to deliver predictive analytics solutions and AI applications efficiently. The TDSP helps improve team collaboration and learning by suggesting how team roles work best together. The TDSP includes best practices and structures from Microsoft and other industry leaders to help your team successfully implement data science initiatives and fully realize the benefits of your analytics program.\n",
    "\n",
    "<img src=\"https://learn.microsoft.com/en-us/azure/architecture/data-science-process/media/lifecycle/tdsp-lifecycle2.png\"\n",
    "\n",
    "## Data Science Lifecycle\n",
    "\n",
    "### Business Understanding\n",
    "Hacer un portafolio de inversión requiere de revisar las metodologías existentes. Para este ejercicio mostraré 2 metodologías, el modelo de Markowitz y el modelo Kelly Criterion. Si me dio tiempo, estaría mostrando el modelo CAPM."
   ]
  },
  {
   "cell_type": "code",
   "execution_count": null,
   "id": "5687f7e6-44c7-4296-8f74-6e1c832742b2",
   "metadata": {},
   "outputs": [],
   "source": []
  },
  {
   "cell_type": "code",
   "execution_count": null,
   "id": "31678c4c-0fe0-4c12-a1e8-6e0044ac187a",
   "metadata": {},
   "outputs": [],
   "source": []
  }
 ],
 "metadata": {
  "kernelspec": {
   "display_name": "Python 3 (ipykernel)",
   "language": "python",
   "name": "python3"
  },
  "language_info": {
   "codemirror_mode": {
    "name": "ipython",
    "version": 3
   },
   "file_extension": ".py",
   "mimetype": "text/x-python",
   "name": "python",
   "nbconvert_exporter": "python",
   "pygments_lexer": "ipython3",
   "version": "3.11.9"
  }
 },
 "nbformat": 4,
 "nbformat_minor": 5
}
